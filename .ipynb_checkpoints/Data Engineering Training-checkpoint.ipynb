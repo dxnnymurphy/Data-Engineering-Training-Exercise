{
 "cells": [
  {
   "cell_type": "code",
   "execution_count": 2,
   "id": "58964314",
   "metadata": {},
   "outputs": [],
   "source": [
    "#import necessary functions from pyspark\n",
    "from pyspark.sql import SparkSession\n",
    "from pyspark.sql.functions import lit, when, col, to_date, date_format\n",
    "from pyspark.sql.types import IntegerType\n",
    "#open a pyspark session and read in the csv data\n",
    "spark = SparkSession.builder.appName('cleaned_films').getOrCreate()\n",
    "df = spark.read.options(header='True', inferSchema='True').csv('netflix_titles.csv')"
   ]
  },
  {
   "cell_type": "code",
   "execution_count": 88,
   "id": "2f322544",
   "metadata": {},
   "outputs": [],
   "source": [
    "#apply necessary transformations for the netflix file\n",
    "filtered = df.filter(df.type.contains('Movie'))\\\n",
    "    .withColumn('streaming_service', lit('Netflix'))\\\n",
    "    .withColumn('adult', when(col('rating') == 'R', True).otherwise(False))\\\n",
    "    .withColumn('american', when((col('country').like('%United States%')), True).otherwise(False))\\\n",
    "    .withColumn('airing_date', date_format(to_date(col('date_added'), 'MMMM d, yyyy'),'yyyy-MM-dd'))\\\n",
    "    .withColumn('runtime', when(split(col('duration'),' ').getItem(0).cast(IntegerType()) < 60, '< 60 mins')\\\n",
    "                           .when(split(col('duration'),' ').getItem(0).cast(IntegerType()) > 120, '> 2 hrs')\n",
    "                           .otherwise('1-2 hrs'))\\\n",
    "    .drop('show_id','type','cast','date_added','release_year','rating', 'listed_in', 'description')"
   ]
  },
  {
   "cell_type": "code",
   "execution_count": 89,
   "id": "e50cb1b8",
   "metadata": {},
   "outputs": [],
   "source": [
    "#output to parquet file\n",
    "filtered.write.parquet('cleaned_films')"
   ]
  },
  {
   "cell_type": "code",
   "execution_count": null,
   "id": "0d823667",
   "metadata": {},
   "outputs": [],
   "source": []
  },
  {
   "cell_type": "code",
   "execution_count": 92,
   "id": "0f58a7db",
   "metadata": {},
   "outputs": [],
   "source": [
    "#import necessary functions from pyspark\n",
    "from pyspark.sql import SparkSession\n",
    "from pyspark.sql.functions import lit, when, col, to_date, date_format\n",
    "from pyspark.sql.types import IntegerType\n",
    "#open a pyspark session and read in the csv data\n",
    "spark = SparkSession.builder.appName('cleaned_films').getOrCreate()\n",
    "df1 = spark.read.options(header='True', inferSchema='True').csv('amazon_prime_titles.csv')"
   ]
  },
  {
   "cell_type": "code",
   "execution_count": 97,
   "id": "dcc22b97",
   "metadata": {},
   "outputs": [],
   "source": [
    "#apply necessary transformations for the amazon prime file\n",
    "filtered1 = df1.filter(df1.type.contains('Movie'))\\\n",
    "    .withColumn('streaming_service', lit('Amazon Prime'))\\\n",
    "    .withColumn('adult', when((col('rating') == 'R') | (col('rating') == '18+'), True).otherwise(False))\\\n",
    "    .withColumn('american', when((col('country').like('%United States%')), True).otherwise(False))\\\n",
    "    .withColumn('airing_date', date_format(to_date(col('date_added'), 'MMMM d, yyyy'),'yyyy-MM-dd'))\\\n",
    "    .withColumn('runtime', when(split(col('duration'),' ').getItem(0).cast(IntegerType()) < 60, '< 60 mins')\\\n",
    "                           .when(split(col('duration'),' ').getItem(0).cast(IntegerType()) > 120, '> 2 hrs')\n",
    "                           .otherwise('1-2 hrs'))\\\n",
    "    .drop('show_id','type','cast','date_added','release_year','rating', 'listed_in', 'description')"
   ]
  },
  {
   "cell_type": "code",
   "execution_count": 98,
   "id": "6c4ba3df",
   "metadata": {},
   "outputs": [],
   "source": [
    "#append the existing cleaned_films file\n",
    "filtered1.write.mode('append').parquet('cleaned_films')"
   ]
  },
  {
   "cell_type": "code",
   "execution_count": 100,
   "id": "45e36a04",
   "metadata": {},
   "outputs": [],
   "source": [
    "#import necessary functions from pyspark\n",
    "from pyspark.sql import SparkSession\n",
    "from pyspark.sql.functions import lit, when, col, to_date, date_format\n",
    "from pyspark.sql.types import IntegerType\n",
    "#open a pyspark session and read in the csv data\n",
    "spark = SparkSession.builder.appName('cleaned_films').getOrCreate()\n",
    "df2 = spark.read.options(header='True', inferSchema='True').csv('disney_plus_titles.csv')"
   ]
  },
  {
   "cell_type": "code",
   "execution_count": 103,
   "id": "5d6e9983",
   "metadata": {},
   "outputs": [],
   "source": [
    "#apply necessary transformations for the disney plus file\n",
    "filtered2 = df2.filter(df2.type.contains('Movie'))\\\n",
    "    .withColumn('streaming_service', lit('Disney Plus'))\\\n",
    "    .withColumn('adult', when((col('rating') == 'R') | (col('rating') == '18+'), True).otherwise(False))\\\n",
    "    .withColumn('american', when((col('country').like('%United States%')), True).otherwise(False))\\\n",
    "    .withColumn('airing_date', date_format(to_date(col('date_added'), 'MMMM d, yyyy'),'yyyy-MM-dd'))\\\n",
    "    .withColumn('runtime', when(split(col('duration'),' ').getItem(0).cast(IntegerType()) < 60, '< 60 mins')\\\n",
    "                           .when(split(col('duration'),' ').getItem(0).cast(IntegerType()) > 120, '> 2 hrs')\n",
    "                           .otherwise('1-2 hrs'))\\\n",
    "    .drop('show_id','type','cast','date_added','release_year','rating', 'listed_in', 'description')"
   ]
  },
  {
   "cell_type": "code",
   "execution_count": 106,
   "id": "0e47d0c2",
   "metadata": {},
   "outputs": [],
   "source": [
    "#append the existing cleaned_films file\n",
    "filtered2.write.mode('append').parquet('cleaned_films')"
   ]
  },
  {
   "cell_type": "code",
   "execution_count": null,
   "id": "f7f18588",
   "metadata": {},
   "outputs": [],
   "source": []
  },
  {
   "cell_type": "code",
   "execution_count": 5,
   "id": "32065241",
   "metadata": {},
   "outputs": [
    {
     "data": {
      "text/plain": [
       "[Row(title='The Grand Seduction', director='Don McKellar', country='Canada', duration='113 min', streaming_service='Amazon Prime', adult=False, american=False, airing_date='2021-03-30', runtime='1-2 hrs'),\n",
       " Row(title='Take Care Good Night', director='Girish Joshi', country='India', duration='110 min', streaming_service='Amazon Prime', adult=False, american=False, airing_date='2021-03-30', runtime='1-2 hrs'),\n",
       " Row(title='Secrets of Deception', director='Josh Webber', country='United States', duration='74 min', streaming_service='Amazon Prime', adult=False, american=True, airing_date='2021-03-30', runtime='1-2 hrs'),\n",
       " Row(title='Pink: Staying True', director='Sonia Anderson', country='United States', duration='69 min', streaming_service='Amazon Prime', adult=False, american=True, airing_date='2021-03-30', runtime='1-2 hrs'),\n",
       " Row(title='Monster Maker', director='Giles Foster', country='United Kingdom', duration='45 min', streaming_service='Amazon Prime', adult=False, american=False, airing_date='2021-03-30', runtime='< 60 mins')]"
      ]
     },
     "execution_count": 5,
     "metadata": {},
     "output_type": "execute_result"
    }
   ],
   "source": [
    "#reads the parquet file and performs basic checks to see that appending worked as expected\n",
    "parqdf = spark.read.parquet('cleaned_films')\n",
    "parqdf.head(5)"
   ]
  },
  {
   "cell_type": "code",
   "execution_count": 6,
   "id": "c30c1273",
   "metadata": {},
   "outputs": [],
   "source": [
    "from pyspark.sql import SparkSession\n",
    "spark = SparkSession.builder.appName('cleaned_films').getOrCreate()\n",
    "import great_expectations as ge\n",
    "df2 = spark.read.options(header='True', inferSchema='True').csv('disney_plus_titles.csv')"
   ]
  },
  {
   "cell_type": "code",
   "execution_count": 23,
   "id": "fe9828a0",
   "metadata": {},
   "outputs": [
    {
     "name": "stdout",
     "output_type": "stream",
     "text": [
      "{\n",
      "  \"result\": {},\n",
      "  \"meta\": {},\n",
      "  \"success\": true,\n",
      "  \"exception_info\": {\n",
      "    \"raised_exception\": false,\n",
      "    \"exception_traceback\": null,\n",
      "    \"exception_message\": null\n",
      "  },\n",
      "  \"expectation_config\": {\n",
      "    \"meta\": {},\n",
      "    \"kwargs\": {\n",
      "      \"column\": \"type\",\n",
      "      \"result_format\": \"BASIC\"\n",
      "    },\n",
      "    \"expectation_type\": \"expect_column_to_exist\"\n",
      "  }\n",
      "}\n"
     ]
    },
    {
     "name": "stderr",
     "output_type": "stream",
     "text": [
      "22/01/13 15:10:12 WARN CacheManager: Asked to cache already cached data.\n"
     ]
    }
   ],
   "source": [
    "#converts the dataset to a great expectations object\n",
    "df_ge = ge.dataset.SparkDFDataset(df2)\n",
    "#checks that there are type and title columns\n",
    "print(df_ge.expect_column_to_exist('type','title'))"
   ]
  },
  {
   "cell_type": "code",
   "execution_count": 19,
   "id": "4d13564f",
   "metadata": {},
   "outputs": [
    {
     "name": "stdout",
     "output_type": "stream",
     "text": [
      "{\n",
      "  \"result\": {\n",
      "    \"observed_value\": 12\n",
      "  },\n",
      "  \"meta\": {},\n",
      "  \"success\": true,\n",
      "  \"exception_info\": {\n",
      "    \"raised_exception\": false,\n",
      "    \"exception_traceback\": null,\n",
      "    \"exception_message\": null\n",
      "  },\n",
      "  \"expectation_config\": {\n",
      "    \"meta\": {},\n",
      "    \"kwargs\": {\n",
      "      \"min_value\": 5,\n",
      "      \"max_value\": 12,\n",
      "      \"result_format\": \"BASIC\"\n",
      "    },\n",
      "    \"expectation_type\": \"expect_table_column_count_to_be_between\"\n",
      "  }\n",
      "}\n"
     ]
    }
   ],
   "source": [
    "#checks that the minimum amount of data is present in the table\n",
    "print(df_ge.expect_table_column_count_to_be_between(5,12))"
   ]
  },
  {
   "cell_type": "code",
   "execution_count": 27,
   "id": "a920b25c",
   "metadata": {},
   "outputs": [
    {
     "name": "stdout",
     "output_type": "stream",
     "text": [
      "{\n",
      "  \"result\": {\n",
      "    \"element_count\": 1450,\n",
      "    \"missing_count\": 0,\n",
      "    \"missing_percent\": 0.0,\n",
      "    \"unexpected_count\": 0,\n",
      "    \"unexpected_percent\": 0.0,\n",
      "    \"unexpected_percent_total\": 0.0,\n",
      "    \"unexpected_percent_nonmissing\": 0.0,\n",
      "    \"partial_unexpected_list\": []\n",
      "  },\n",
      "  \"meta\": {},\n",
      "  \"success\": true,\n",
      "  \"exception_info\": {\n",
      "    \"raised_exception\": false,\n",
      "    \"exception_traceback\": null,\n",
      "    \"exception_message\": null\n",
      "  },\n",
      "  \"expectation_config\": {\n",
      "    \"meta\": {},\n",
      "    \"kwargs\": {\n",
      "      \"column\": \"type\",\n",
      "      \"value_set\": [\n",
      "        \"Movie\",\n",
      "        \"TV Show\"\n",
      "      ],\n",
      "      \"result_format\": \"BASIC\"\n",
      "    },\n",
      "    \"expectation_type\": \"expect_column_values_to_be_in_set\"\n",
      "  }\n",
      "}\n"
     ]
    }
   ],
   "source": [
    "#checks that the values in the type column are as expected\n",
    "print(df_ge.expect_column_values_to_be_in_set('type',['Movie', 'TV Show']))"
   ]
  },
  {
   "cell_type": "code",
   "execution_count": null,
   "id": "5e3bc13b",
   "metadata": {},
   "outputs": [],
   "source": []
  }
 ],
 "metadata": {
  "kernelspec": {
   "display_name": "Python 3 (ipykernel)",
   "language": "python",
   "name": "python3"
  },
  "language_info": {
   "codemirror_mode": {
    "name": "ipython",
    "version": 3
   },
   "file_extension": ".py",
   "mimetype": "text/x-python",
   "name": "python",
   "nbconvert_exporter": "python",
   "pygments_lexer": "ipython3",
   "version": "3.10.1"
  }
 },
 "nbformat": 4,
 "nbformat_minor": 5
}
